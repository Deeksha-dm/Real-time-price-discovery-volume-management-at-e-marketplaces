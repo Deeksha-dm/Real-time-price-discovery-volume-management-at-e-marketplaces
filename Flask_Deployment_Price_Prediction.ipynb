{
 "cells": [
  {
   "cell_type": "code",
   "execution_count": 1,
   "metadata": {},
   "outputs": [],
   "source": [
    "import pandas as pd\n",
    "from tensorflow.keras.models import load_model\n",
    "from sklearn.preprocessing import LabelEncoder\n",
    "import os\n",
    "import numpy as np"
   ]
  },
  {
   "cell_type": "code",
   "execution_count": 2,
   "metadata": {},
   "outputs": [],
   "source": [
    "data = pd.read_csv(\"Cleaned_data.csv\")"
   ]
  },
  {
   "cell_type": "code",
   "execution_count": 3,
   "metadata": {},
   "outputs": [],
   "source": [
    "lb_amc = LabelEncoder()\n",
    "data.Amc_Name = lb_amc.fit_transform(data.Amc_Name)\n",
    "unique_Amc_Nos = data.Amc_Name.unique()\n",
    "unique_Amc_labels = lb_amc.inverse_transform(data.Amc_Name.unique())\n",
    "amc_dict = {} # to store the mapping of the label encoding to the amc name\n",
    "for i in range(len(unique_Amc_labels)):\n",
    "    amc_dict[unique_Amc_labels[i]] = unique_Amc_Nos[i]"
   ]
  },
  {
   "cell_type": "code",
   "execution_count": 4,
   "metadata": {},
   "outputs": [],
   "source": [
    "lb_crop = LabelEncoder()\n",
    "data.Crop = lb_crop.fit_transform(data.Crop)\n",
    "unique_Crop_Nos = data.Crop.unique()\n",
    "unique_Crop_labels = lb_crop.inverse_transform(unique_Crop_Nos)\n",
    "crop_dict = {} # to store the mapping of the label encoding to the crop name\n",
    "for i in range(len(unique_Crop_labels)):\n",
    "    crop_dict[unique_Crop_labels[i]] = unique_Crop_Nos[i]"
   ]
  },
  {
   "cell_type": "code",
   "execution_count": 5,
   "metadata": {},
   "outputs": [],
   "source": [
    "crop_max = data.Crop.max()\n",
    "crop_min = data.Crop.min()\n",
    "amc_max = data.Amc_Name.max()\n",
    "amc_min = data.Amc_Name.min()\n",
    "max_max = data.Maximum.max()\n",
    "max_min = data.Maximum.min()\n",
    "min_max = data.Minimum.max()\n",
    "min_min = data.Minimum.min()\n",
    "modal_max = data.Modal.max()\n",
    "modal_min = data.Modal.min()"
   ]
  },
  {
   "cell_type": "code",
   "execution_count": 6,
   "metadata": {},
   "outputs": [],
   "source": [
    "model = load_model(\"price_predict_model.h5\")"
   ]
  },
  {
   "cell_type": "code",
   "execution_count": 12,
   "metadata": {},
   "outputs": [
    {
     "name": "stdout",
     "output_type": "stream",
     "text": [
      " * Serving Flask app \"__main__\" (lazy loading)\n",
      " * Environment: production\n",
      "   WARNING: This is a development server. Do not use it in a production deployment.\n",
      "   Use a production WSGI server instead.\n",
      " * Debug mode: off\n"
     ]
    },
    {
     "name": "stderr",
     "output_type": "stream",
     "text": [
      " * Running on http://127.0.0.1:5000/ (Press CTRL+C to quit)\n"
     ]
    },
    {
     "name": "stdout",
     "output_type": "stream",
     "text": [
      " * Running on http://6c477723add7.ngrok.io\n",
      " * Traffic stats available on http://127.0.0.1:4040\n"
     ]
    },
    {
     "name": "stderr",
     "output_type": "stream",
     "text": [
      "127.0.0.1 - - [05/Apr/2021 11:12:25] \"\u001b[37mGET /Tandur/Groundnut%20pods-Common/6120/5550 HTTP/1.1\u001b[0m\" 200 -\n"
     ]
    },
    {
     "name": "stdout",
     "output_type": "stream",
     "text": [
      "Input AMC Name:  Tandur\n",
      "Input Crop:  Groundnut pods-Common\n",
      "Input Maximum:  6120\n",
      "Input Minimum:  5550\n",
      "Output Price prediction:  5987.5317\n"
     ]
    },
    {
     "name": "stderr",
     "output_type": "stream",
     "text": [
      "127.0.0.1 - - [05/Apr/2021 11:12:37] \"\u001b[37mGET /Narayanpet/Bengal%20Gram-Common/4614/4565 HTTP/1.1\u001b[0m\" 200 -\n"
     ]
    },
    {
     "name": "stdout",
     "output_type": "stream",
     "text": [
      "Input AMC Name:  Narayanpet\n",
      "Input Crop:  Bengal Gram-Common\n",
      "Input Maximum:  4614\n",
      "Input Minimum:  4565\n",
      "Output Price prediction:  4594.89\n"
     ]
    },
    {
     "name": "stderr",
     "output_type": "stream",
     "text": [
      "127.0.0.1 - - [05/Apr/2021 11:12:41] \"\u001b[37mGET /Warangal/Maize-Common/1381/1288 HTTP/1.1\u001b[0m\" 200 -\n"
     ]
    },
    {
     "name": "stdout",
     "output_type": "stream",
     "text": [
      "Input AMC Name:  Warangal\n",
      "Input Crop:  Maize-Common\n",
      "Input Maximum:  1381\n",
      "Input Minimum:  1288\n",
      "Output Price prediction:  1305.0516\n"
     ]
    }
   ],
   "source": [
    "from flask_ngrok import run_with_ngrok\n",
    "from flask import Flask,jsonify\n",
    "app =Flask(__name__)\n",
    "run_with_ngrok(app) #starts ngrok when the app is running\n",
    "@app.route(\"/<market_label>/<crop_label>/<int:maximum>/<int:minimum>\")\n",
    "def home(market_label,crop_label,maximum,minimum):\n",
    "    market = amc_dict.get(market_label)\n",
    "    crop = crop_dict.get(crop_label)\n",
    "    print(\"Input AMC Name: \",market_label)\n",
    "    print(\"Input Crop: \",crop_label)\n",
    "    print(\"Input Maximum: \",maximum)\n",
    "    print(\"Input Minimum: \",minimum)\n",
    "    \n",
    "    market_scale = np.round(((market - amc_min)/(amc_max- amc_min)),4)\n",
    "    crop_scale = np.round(((crop - crop_min)/(crop_max-crop_min)),4)\n",
    "    maximum_scale = np.round(((maximum - max_min)/(max_max-max_min)),4)\n",
    "    minimum_scale = np.round(((minimum - min_min)/(min_max-min_min)),4)\n",
    "\n",
    "    X = [market_scale,crop_scale, maximum_scale, minimum_scale]\n",
    "    X = np.array(X).reshape(-1,4)\n",
    "    X = X.reshape((X.shape[0], 1,X.shape[1]))\n",
    "\n",
    "    Y_pred = model.predict(X)\n",
    "\n",
    "    Y_final = Y_pred*(maximum-minimum)+minimum\n",
    "    print(\"Output Price prediction: \",str(Y_final[0][0]))\n",
    "    return jsonify(str(Y_final[0][0]))\n",
    "app.run()\n",
    "\n"
   ]
  },
  {
   "cell_type": "code",
   "execution_count": null,
   "metadata": {},
   "outputs": [],
   "source": []
  },
  {
   "cell_type": "code",
   "execution_count": null,
   "metadata": {},
   "outputs": [],
   "source": []
  }
 ],
 "metadata": {
  "kernelspec": {
   "display_name": "Python 3",
   "language": "python",
   "name": "python3"
  },
  "language_info": {
   "codemirror_mode": {
    "name": "ipython",
    "version": 3
   },
   "file_extension": ".py",
   "mimetype": "text/x-python",
   "name": "python",
   "nbconvert_exporter": "python",
   "pygments_lexer": "ipython3",
   "version": "3.8.5"
  }
 },
 "nbformat": 4,
 "nbformat_minor": 4
}
